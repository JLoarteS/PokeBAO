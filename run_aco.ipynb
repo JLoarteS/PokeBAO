{
 "cells": [
  {
   "cell_type": "markdown",
   "metadata": {},
   "source": [
    "# Ant Colony Optimization\n",
    "\n",
    "## Modules required"
   ]
  },
  {
   "cell_type": "code",
   "execution_count": null,
   "metadata": {},
   "outputs": [],
   "source": [
    "# Imports for all of the code\n",
    "from data.pokemon import *\n",
    "from src.experiment.aco.aco_experiment_executer import *\n",
    "import numpy as np\n",
    "import matplotlib.pyplot as plt\n",
    "import seaborn as sns"
   ]
  },
  {
   "cell_type": "markdown",
   "metadata": {},
   "source": [
    "## Run one execution "
   ]
  },
  {
   "cell_type": "code",
   "execution_count": null,
   "metadata": {},
   "outputs": [],
   "source": [
    "executer = ACOExperimentExecuter('smogon')\n",
    "\n",
    "aco = executer.run_single_experiment(1)\n",
    "\n",
    "print(f\"Best fitness: {aco.best_fitness}\")\n",
    "print(f\"Best solution: {[a.name for a in aco.best_solution]}\")\n",
    "# ACOZuboraGabora.decode_solution(aco.best_solution)"
   ]
  },
  {
   "cell_type": "markdown",
   "metadata": {},
   "source": [
    "## Process Visualization"
   ]
  },
  {
   "cell_type": "markdown",
   "metadata": {},
   "source": [
    "### Fitness evolution"
   ]
  },
  {
   "cell_type": "code",
   "execution_count": null,
   "metadata": {},
   "outputs": [],
   "source": [
    "sns.set_style('darkgrid')\n",
    "\n",
    "fitness = np.array([[ant[1] for ant in trails] for trails in aco.trails_history ])\n",
    "best_fitness = np.array(aco.best_fitness_history)\n",
    "\n",
    "fig, axs = plt.subplots(figsize=(5,5))\n",
    "axs.set_title('Fitness evolution Pokemons')\n",
    "axs.set_xlabel('Iterations')\n",
    "axs.set_ylabel('Fitness')\n",
    "\n",
    "axs.plot(best_fitness, label='best_high')\n",
    "\n",
    "median = np.median(fitness, axis=1)\n",
    "min_array = np.min(fitness, axis=1)\n",
    "max_array = np.max(fitness, axis=1)\n",
    "axs.plot(median, label='iterations_high')\n",
    "axs.fill_between(np.arange(len(median)), min_array, max_array, alpha=0.3, color='orange')\n",
    "\n",
    "plt.legend()"
   ]
  }
 ],
 "metadata": {
  "kernelspec": {
   "display_name": "base",
   "language": "python",
   "name": "python3"
  },
  "language_info": {
   "codemirror_mode": {
    "name": "ipython",
    "version": 3
   },
   "file_extension": ".py",
   "mimetype": "text/x-python",
   "name": "python",
   "nbconvert_exporter": "python",
   "pygments_lexer": "ipython3",
   "version": "3.11.3"
  }
 },
 "nbformat": 4,
 "nbformat_minor": 2
}
