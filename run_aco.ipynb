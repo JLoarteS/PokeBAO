{
 "cells": [
  {
   "cell_type": "markdown",
   "metadata": {},
   "source": [
    "# Ant Colony Optimization\n",
    "\n",
    "## Modules required"
   ]
  },
  {
   "cell_type": "code",
   "execution_count": 1,
   "metadata": {},
   "outputs": [],
   "source": [
    "# Imports for all of the code\n",
    "from data.pokemon import *\n",
    "from src.aco.aco_pokebao import ACOPokebao"
   ]
  },
  {
   "cell_type": "markdown",
   "metadata": {},
   "source": [
    "## Run one execution "
   ]
  },
  {
   "cell_type": "code",
   "execution_count": 12,
   "metadata": {},
   "outputs": [
    {
     "ename": "TypeError",
     "evalue": "'int' object is not iterable",
     "output_type": "error",
     "traceback": [
      "\u001b[0;31m---------------------------------------------------------------------------\u001b[0m",
      "\u001b[0;31mTypeError\u001b[0m                                 Traceback (most recent call last)",
      "Cell \u001b[0;32mIn[12], line 8\u001b[0m\n\u001b[1;32m      5\u001b[0m def_team \u001b[38;5;241m=\u001b[39m [] \u001b[38;5;66;03m## Crear una funcion que devuelva un equipo defensor\u001b[39;00m\n\u001b[1;32m      7\u001b[0m aco \u001b[38;5;241m=\u001b[39m ACOPokebao()\n\u001b[0;32m----> 8\u001b[0m best_solution \u001b[38;5;241m=\u001b[39m aco\u001b[38;5;241m.\u001b[39moptimize()\n\u001b[1;32m     10\u001b[0m \u001b[38;5;28mprint\u001b[39m(best_solution)\n",
      "File \u001b[0;32m~/Github/PokeBAO/src/aco/aco_pokebao.py:41\u001b[0m, in \u001b[0;36mACOPokebao.optimize\u001b[0;34m(self, max_evaluations)\u001b[0m\n\u001b[1;32m     40\u001b[0m \u001b[38;5;28;01mdef\u001b[39;00m \u001b[38;5;21moptimize\u001b[39m(\u001b[38;5;28mself\u001b[39m, max_evaluations: \u001b[38;5;28mint\u001b[39m \u001b[38;5;241m=\u001b[39m \u001b[38;5;241m1000\u001b[39m):\n\u001b[0;32m---> 41\u001b[0m     \u001b[38;5;28mself\u001b[39m\u001b[38;5;241m.\u001b[39m_initialize()\n\u001b[1;32m     43\u001b[0m     n_evaluations \u001b[38;5;241m=\u001b[39m \u001b[38;5;241m0\u001b[39m\n\u001b[1;32m     44\u001b[0m     \u001b[38;5;28;01mwhile\u001b[39;00m n_evaluations \u001b[38;5;241m<\u001b[39m max_evaluations:\n\u001b[1;32m     45\u001b[0m     \u001b[38;5;66;03m# while n_evaluations < max_evaluations and not self._stop_condition(): ##### TODO Poner al final para para cuando se estaque o cambiar cuando encuentra un minimo local\u001b[39;00m\n",
      "File \u001b[0;32m~/Github/PokeBAO/src/aco/aco_pokebao.py:73\u001b[0m, in \u001b[0;36mACOPokebao._initialize\u001b[0;34m(self)\u001b[0m\n\u001b[1;32m     70\u001b[0m \u001b[38;5;28mself\u001b[39m\u001b[38;5;241m.\u001b[39mtrails_history \u001b[38;5;241m=\u001b[39m []\n\u001b[1;32m     71\u001b[0m \u001b[38;5;28mself\u001b[39m\u001b[38;5;241m.\u001b[39mbest_fitness_history \u001b[38;5;241m=\u001b[39m []\n\u001b[0;32m---> 73\u001b[0m \u001b[38;5;28;01mfor\u001b[39;00m i \u001b[38;5;129;01min\u001b[39;00m TEAM_SIZE:\n\u001b[1;32m     74\u001b[0m     candidates \u001b[38;5;241m=\u001b[39m \u001b[38;5;28mself\u001b[39m\u001b[38;5;241m.\u001b[39m_get_candidates()\n\u001b[1;32m     75\u001b[0m     \u001b[38;5;28mself\u001b[39m\u001b[38;5;241m.\u001b[39mteam\u001b[38;5;241m.\u001b[39m\u001b[38;5;21m__add__\u001b[39m(candidates[random\u001b[38;5;241m.\u001b[39mrandomint(\u001b[38;5;241m1\u001b[39m, \u001b[38;5;28mlen\u001b[39m(candidates))])\n",
      "\u001b[0;31mTypeError\u001b[0m: 'int' object is not iterable"
     ]
    }
   ],
   "source": [
    "\"\"\"\n",
    "    Ellos crean una clase para realizar los experimentos, desde ahi cargan los datos y demas \n",
    "\"\"\"\n",
    "\n",
    "def_team = [] ## Crear una funcion que devuelva un equipo defensor\n",
    "\n",
    "aco = ACOPokebao()\n",
    "best_solution = aco.optimize()\n",
    "\n",
    "print(best_solution)"
   ]
  },
  {
   "cell_type": "code",
   "execution_count": 11,
   "metadata": {},
   "outputs": [
    {
     "name": "stdout",
     "output_type": "stream",
     "text": [
      "bulbasaur: \n"
     ]
    }
   ],
   "source": [
    "aco = ACOPokebao()\n",
    "print(aco.all_pokemons[0])"
   ]
  }
 ],
 "metadata": {
  "kernelspec": {
   "display_name": "base",
   "language": "python",
   "name": "python3"
  },
  "language_info": {
   "codemirror_mode": {
    "name": "ipython",
    "version": 3
   },
   "file_extension": ".py",
   "mimetype": "text/x-python",
   "name": "python",
   "nbconvert_exporter": "python",
   "pygments_lexer": "ipython3",
   "version": "3.12.7"
  }
 },
 "nbformat": 4,
 "nbformat_minor": 2
}
