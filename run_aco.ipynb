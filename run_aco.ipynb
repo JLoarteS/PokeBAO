{
 "cells": [
  {
   "cell_type": "markdown",
   "metadata": {},
   "source": [
    "# Ant Colony Optimization\n",
    "\n",
    "## Modules required"
   ]
  },
  {
   "cell_type": "code",
   "execution_count": 1,
   "metadata": {},
   "outputs": [],
   "source": [
    "# Imports for all of the code\n",
    "from data.pokemon import *\n",
    "from src.experiment.aco.aco_experiment_executer import *"
   ]
  },
  {
   "cell_type": "markdown",
   "metadata": {},
   "source": [
    "## Run one execution "
   ]
  },
  {
   "cell_type": "code",
   "execution_count": 4,
   "metadata": {},
   "outputs": [
    {
     "name": "stdout",
     "output_type": "stream",
     "text": [
      "['starmie', 'cloyster', 'jolteon', 'chansey', 'snorlax', 'tauros']\n",
      "6\n",
      "Sin movimientos: metapod\n",
      "Sin movimientos: kakuna\n",
      "Sin movimientos: ditto\n",
      "Best fitness: 0\n",
      "Best solution: ['muk', 'slowbro', 'vileplume', 'sandslash', 'horsea', 'psyduck']\n"
     ]
    }
   ],
   "source": [
    "executer = ACOExperimentExecuter('smogon')\n",
    "\n",
    "aco = executer.run_single_experiment(1)\n",
    "\n",
    "print(f\"Best fitness: {1.0/aco.best_fitness:.0f}\")\n",
    "print(f\"Best solution: {[a.name for a in aco.best_solution]}\")\n",
    "# ACOZuboraGabora.decode_solution(aco.best_solution)"
   ]
  }
 ],
 "metadata": {
  "kernelspec": {
   "display_name": "base",
   "language": "python",
   "name": "python3"
  },
  "language_info": {
   "codemirror_mode": {
    "name": "ipython",
    "version": 3
   },
   "file_extension": ".py",
   "mimetype": "text/x-python",
   "name": "python",
   "nbconvert_exporter": "python",
   "pygments_lexer": "ipython3",
   "version": "0.0.0"
  }
 },
 "nbformat": 4,
 "nbformat_minor": 2
}
