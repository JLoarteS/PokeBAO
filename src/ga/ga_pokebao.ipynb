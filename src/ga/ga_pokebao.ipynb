{
 "cells": [
  {
   "cell_type": "markdown",
   "metadata": {},
   "source": [
    "# Genetic Algorithms\n",
    "\n",
    "## Modules required"
   ]
  },
  {
   "cell_type": "code",
   "execution_count": null,
   "metadata": {},
   "outputs": [],
   "source": [
    "# Imports for all of the code\n",
    "import math\n",
    "import numpy as np\n",
    "import matplotlib.pyplot as plt\n",
    "from random import Random\n",
    "from time import time\n",
    "from inspyred import ec, benchmarks"
   ]
  },
  {
   "cell_type": "markdown",
   "metadata": {},
   "source": [
    "## GA Class"
   ]
  },
  {
   "cell_type": "code",
   "execution_count": null,
   "metadata": {},
   "outputs": [],
   "source": [
    "class GAPokeBAO(benchmarks.Benchmark):\n",
    "    \"\"\"\n",
    "    \"\"\"\n",
    "    def __init__(self):\n",
    "        benchmarks.Benchmark.__init__(self)\n",
    "        self.bounder = ec.DiscreteBounder([0])\n",
    "        self.maximize = True\n",
    "\n",
    "    def generator(self, random, args):\n",
    "        \"\"\"Return a candidate solution for an evolutionary algorithm.\"\"\"\n",
    "        pass\n",
    "\n",
    "    def evaluator(self, candidates, args):\n",
    "        \"\"\"Return the fitness values for the given candidates.\"\"\"\n",
    "        pass"
   ]
  },
  {
   "cell_type": "code",
   "execution_count": null,
   "metadata": {},
   "outputs": [],
   "source": [
    "seed = time() # the current timestamp\n",
    "prng = Random()\n",
    "prng.seed(seed)\n",
    "\n",
    "ga = ec.GA(prng)\n",
    "ga.selector = ec.selectors.fitness_proportionate_selection\n",
    "ga.variator = [ec.variators.n_point_crossover,\n",
    "               ec.variators.bit_flip_mutation]\n",
    "ga.replacer = ec.replacers.generational_replacement\n",
    "ga.terminator = ec.terminators.generation_termination\n",
    "\n",
    "best_fitness_historic = []\n",
    "diversity_historic = []\n",
    "ga.observer = [fitness_diversity_observer, ec.observers.stats_observer]\n",
    "\n",
    "final_pop = ga.evolve(generator=problem.generator,\n",
    "                      evaluator=problem.evaluator,\n",
    "                      bounder=problem.bounder,\n",
    "                      maximize=problem.maximize,\n",
    "                      pop_size=100,\n",
    "                      max_generations=100,\n",
    "                      num_elites=1,\n",
    "                      num_selected=100,\n",
    "                      crossover_rate=1,\n",
    "                      num_crossover_points=1,\n",
    "                      mutation_rate=0.05,\n",
    "                      best_fitness_historic=best_fitness_historic,\n",
    "                      diversity_historic=diversity_historic)\n",
    "\n",
    "best = max(ga.population)\n",
    "print('Best Solution: {0}: {1}'.format(str(best.candidate), best.fitness))"
   ]
  }
 ],
 "metadata": {
  "language_info": {
   "name": "python"
  }
 },
 "nbformat": 4,
 "nbformat_minor": 2
}
