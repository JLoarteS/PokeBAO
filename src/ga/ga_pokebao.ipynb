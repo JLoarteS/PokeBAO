{
 "cells": [
  {
   "cell_type": "markdown",
   "metadata": {},
   "source": [
    "# Genetic Algorithms\n",
    "\n",
    "## Modules required"
   ]
  },
  {
   "cell_type": "code",
   "execution_count": 9,
   "metadata": {},
   "outputs": [],
   "source": [
    "# Imports for all of the code\n",
    "import math\n",
    "import numpy as np\n",
    "import matplotlib.pyplot as plt\n",
    "from random import Random\n",
    "from time import time\n",
    "from inspyred import ec, benchmarks\n",
    "\n",
    "# Get the current working directory of the notebook\n",
    "current_dir = os.getcwd()\n",
    "\n",
    "# Add the parent directory of 'data' to sys.path\n",
    "sys.path.append(os.path.abspath(os.path.join(current_dir, '../../data')))\n",
    "\n",
    "from pokemon import Pokemon "
   ]
  },
  {
   "cell_type": "markdown",
   "metadata": {},
   "source": [
    "## GA Class"
   ]
  },
  {
   "cell_type": "code",
   "execution_count": null,
   "metadata": {},
   "outputs": [],
   "source": [
    "class GAPokeBAO(benchmarks.Benchmark):"
   ]
  },
  {
   "cell_type": "code",
   "execution_count": null,
   "metadata": {},
   "outputs": [],
   "source": [
    "seed = time() # the current timestamp\n",
    "prng = Random()\n",
    "prng.seed(seed)\n",
    "\n",
    "ga = ec.GA(prng)\n",
    "ga.selector = ec.selectors.fitness_proportionate_selection\n",
    "ga.variator = [ec.variators.n_point_crossover,\n",
    "               ec.variators.bit_flip_mutation]\n",
    "ga.replacer = ec.replacers.generational_replacement\n",
    "ga.terminator = ec.terminators.generation_termination\n",
    "\n",
    "best_fitness_historic = []\n",
    "diversity_historic = []\n",
    "ga.observer = [fitness_diversity_observer, ec.observers.stats_observer]\n",
    "\n",
    "final_pop = ga.evolve(generator=problem.generator,\n",
    "                      evaluator=problem.evaluator,\n",
    "                      bounder=problem.bounder,\n",
    "                      maximize=problem.maximize,\n",
    "                      pop_size=100,\n",
    "                      max_generations=100,\n",
    "                      num_elites=1,\n",
    "                      num_selected=100,\n",
    "                      crossover_rate=1,\n",
    "                      num_crossover_points=1,\n",
    "                      mutation_rate=0.05,\n",
    "                      best_fitness_historic=best_fitness_historic,\n",
    "                      diversity_historic=diversity_historic)\n",
    "\n",
    "best = max(ga.population)\n",
    "print('Best Solution: {0}: {1}'.format(str(best.candidate), best.fitness))"
   ]
  }
 ],
 "metadata": {
  "kernelspec": {
   "display_name": ".venv",
   "language": "python",
   "name": "python3"
  },
  "language_info": {
   "codemirror_mode": {
    "name": "ipython",
    "version": 3
   },
   "file_extension": ".py",
   "mimetype": "text/x-python",
   "name": "python",
   "nbconvert_exporter": "python",
   "pygments_lexer": "ipython3",
   "version": "3.11.3"
  }
 },
 "nbformat": 4,
 "nbformat_minor": 2
}
