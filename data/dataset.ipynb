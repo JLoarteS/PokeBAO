{
 "cells": [
  {
   "cell_type": "markdown",
   "metadata": {},
   "source": [
    "# All the datasets we need to solve the problem"
   ]
  },
  {
   "cell_type": "code",
   "execution_count": 1,
   "metadata": {},
   "outputs": [],
   "source": [
    "import json\n",
    "import pandas as pd"
   ]
  },
  {
   "cell_type": "code",
   "execution_count": 2,
   "metadata": {},
   "outputs": [],
   "source": [
    "def get_all_pokemons():\n",
    "    # JSON with pokemons\n",
    "    with open(\"pokemons.json\", \"r\") as f:\n",
    "        pokemons = json.load(f)\n",
    "    \n",
    "    return pokemons"
   ]
  },
  {
   "cell_type": "code",
   "execution_count": 10,
   "metadata": {},
   "outputs": [],
   "source": [
    "def get_all_movements():\n",
    "    # JSON with movements\n",
    "    with open(\"movements.json\", \"r\") as f:\n",
    "        movements = json.load(f)\n",
    "    \n",
    "    return movements"
   ]
  },
  {
   "cell_type": "code",
   "execution_count": 9,
   "metadata": {},
   "outputs": [],
   "source": [
    "def get_types_matrix():\n",
    "    # JSON with types\n",
    "    with open(\"types.json\", \"r\") as f:\n",
    "        types = json.load(f)\n",
    "\n",
    "    matrix = pd.DataFrame(1.0, index=[t[\"name\"] for t in types], columns=[t[\"name\"] for t in types])\n",
    "    \n",
    "    for t in types:\n",
    "        attacker = t[\"name\"]\n",
    "        for defender in t[\"strengths\"]:\n",
    "            matrix.at[attacker, defender] = 2.0\n",
    "        for defender in t[\"weaknesses\"]:\n",
    "            matrix.at[attacker, defender] = 0.5\n",
    "        for defender in t[\"immunes\"]:\n",
    "            matrix.at[attacker, defender] = 0.0\n",
    "    \n",
    "    return matrix"
   ]
  },
  {
   "cell_type": "code",
   "execution_count": null,
   "metadata": {},
   "outputs": [],
   "source": [
    "# Test\n",
    "\n",
    "# get_all_pokemons()\n",
    "# get_all_movements()\n",
    "# get_types_matrix()"
   ]
  }
 ],
 "metadata": {
  "kernelspec": {
   "display_name": "base",
   "language": "python",
   "name": "python3"
  },
  "language_info": {
   "codemirror_mode": {
    "name": "ipython",
    "version": 3
   },
   "file_extension": ".py",
   "mimetype": "text/x-python",
   "name": "python",
   "nbconvert_exporter": "python",
   "pygments_lexer": "ipython3",
   "version": "3.12.7"
  }
 },
 "nbformat": 4,
 "nbformat_minor": 2
}
