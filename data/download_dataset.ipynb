{
 "cells": [
  {
   "cell_type": "markdown",
   "metadata": {},
   "source": [
    "# Download a JSON file with all pokemons chosen\n",
    "\n",
    "Is needed to download the python module `pokebase`, this module works like a bridge between python and https://pokeapi.co/"
   ]
  },
  {
   "cell_type": "markdown",
   "metadata": {},
   "source": [
    "## Get all pokemons from the API\n",
    "\n",
    "- We get the first 151 pokemons"
   ]
  },
  {
   "cell_type": "code",
   "execution_count": 1,
   "metadata": {},
   "outputs": [
    {
     "name": "stdout",
     "output_type": "stream",
     "text": [
      "{1: {'name': 'bulbasaur', 'hp': 45, 'attack': 49, 'defense': 49, 'special-attack': 65, 'special-defense': 65, 'speed': 45, 'types': ['grass', 'poison'], 'moves': ['razor-wind', 'swords-dance', 'cut', 'bind', 'vine-whip', 'headbutt', 'tackle', 'body-slam', 'take-down', 'double-edge', 'growl', 'strength', 'mega-drain', 'leech-seed', 'growth', 'razor-leaf', 'solar-beam', 'poison-powder', 'sleep-powder', 'petal-dance', 'string-shot', 'toxic', 'rage', 'mimic', 'double-team', 'defense-curl', 'light-screen', 'reflect', 'bide', 'sludge', 'skull-bash', 'amnesia', 'flash', 'rest', 'substitute', 'snore', 'curse', 'protect', 'sludge-bomb', 'mud-slap', 'outrage', 'giga-drain', 'endure', 'charm', 'false-swipe', 'swagger', 'fury-cutter', 'attract', 'sleep-talk', 'return', 'frustration', 'safeguard', 'sweet-scent', 'synthesis', 'hidden-power', 'sunny-day', 'rock-smash', 'facade', 'nature-power', 'helping-hand', 'ingrain', 'knock-off', 'secret-power', 'weather-ball', 'grass-whistle', 'bullet-seed', 'magical-leaf', 'natural-gift', 'worry-seed', 'seed-bomb', 'energy-ball', 'leaf-storm', 'power-whip', 'captivate', 'grass-knot', 'venoshock', 'acid-spray', 'round', 'echoed-voice', 'grass-pledge', 'work-up', 'grassy-terrain', 'confide', 'grassy-glide', 'tera-blast', 'trailblaze']}}\n"
     ]
    }
   ],
   "source": [
    "import pokebase as pb\n",
    "import time\n",
    "\n",
    "inicio = time.time()\n",
    "\n",
    "pokemons = {}\n",
    "\n",
    "for id in range(1, 152):\n",
    "    pokemon = pb.pokemon(id)\n",
    "    # print(\"Pokemon done\", time.time() - inicio)\n",
    "    \n",
    "    pokemons[id] = {}\n",
    "    pokemons[id][\"name\"] = pokemon.name\n",
    "\n",
    "    # Get all stats from the Pokemon\n",
    "    for stat in pokemon.stats:\n",
    "        pokemons[id][stat.stat.name] = stat.base_stat\n",
    "\n",
    "    pokemons[id][\"types\"] = [type_slot.type.name for type_slot in pokemon.types]\n",
    "    # print(\"Tipos done\", time.time() - inicio)\n",
    "    \n",
    "    pokemons[id][\"moves\"] = [move_slot.move.name for move_slot in pokemon.moves]\n",
    "    # print(\"Movimiento done\", time.time() - inicio)\n",
    "\n",
    "    break\n",
    "\n",
    "print(pokemons)"
   ]
  },
  {
   "cell_type": "markdown",
   "metadata": {},
   "source": [
    "## Get all pokemons from the API\n",
    "\n",
    "- We get only the ofensive movements (the all offensive movements has any power) "
   ]
  },
  {
   "cell_type": "code",
   "execution_count": 2,
   "metadata": {},
   "outputs": [
    {
     "name": "stdout",
     "output_type": "stream",
     "text": [
      "{'venoshock', 'bind', 'poison-powder', 'hidden-power', 'magical-leaf', 'secret-power', 'sludge', 'round', 'ingrain', 'attract', 'knock-off', 'power-whip', 'sleep-powder', 'skull-bash', 'protect', 'frustration', 'grassy-terrain', 'trailblaze', 'synthesis', 'strength', 'leech-seed', 'snore', 'rock-smash', 'outrage', 'vine-whip', 'toxic', 'string-shot', 'safeguard', 'natural-gift', 'helping-hand', 'mega-drain', 'worry-seed', 'charm', 'tackle', 'flash', 'amnesia', 'curse', 'sunny-day', 'rage', 'confide', 'cut', 'return', 'growth', 'facade', 'weather-ball', 'endure', 'acid-spray', 'defense-curl', 'sweet-scent', 'leaf-storm', 'double-team', 'captivate', 'giga-drain', 'swagger', 'grass-whistle', 'sludge-bomb', 'growl', 'mimic', 'tera-blast', 'solar-beam', 'body-slam', 'light-screen', 'razor-wind', 'rest', 'substitute', 'sleep-talk', 'swords-dance', 'reflect', 'double-edge', 'take-down', 'echoed-voice', 'razor-leaf', 'petal-dance', 'grassy-glide', 'grass-pledge', 'bide', 'mud-slap', 'nature-power', 'energy-ball', 'grass-knot', 'fury-cutter', 'false-swipe', 'bullet-seed', 'seed-bomb', 'work-up', 'headbutt'}\n",
      "86\n"
     ]
    }
   ],
   "source": [
    "# First get all type movements that have our 50 pokemons\n",
    "moves_set = set()\n",
    "\n",
    "for pokemon in pokemons.values():\n",
    "    moves_set.update(pokemon['moves'])\n",
    "\n",
    "print(moves_set)\n",
    "print(len(moves_set))"
   ]
  },
  {
   "cell_type": "code",
   "execution_count": 3,
   "metadata": {},
   "outputs": [
    {
     "name": "stdout",
     "output_type": "stream",
     "text": [
      "{'venoshock': {'id': 474, 'power': 65, 'type': 'poison', 'accuracy': 100}, 'bind': {'id': 20, 'power': 15, 'type': 'normal', 'accuracy': 85}, 'hidden-power': {'id': 237, 'power': 60, 'type': 'normal', 'accuracy': 100}, 'magical-leaf': {'id': 345, 'power': 60, 'type': 'grass', 'accuracy': None}, 'secret-power': {'id': 290, 'power': 70, 'type': 'normal', 'accuracy': 100}, 'sludge': {'id': 124, 'power': 65, 'type': 'poison', 'accuracy': 100}, 'round': {'id': 496, 'power': 60, 'type': 'normal', 'accuracy': 100}, 'knock-off': {'id': 282, 'power': 65, 'type': 'dark', 'accuracy': 100}, 'power-whip': {'id': 438, 'power': 120, 'type': 'grass', 'accuracy': 85}, 'skull-bash': {'id': 130, 'power': 130, 'type': 'normal', 'accuracy': 100}, 'trailblaze': {'id': 885, 'power': 50, 'type': 'grass', 'accuracy': 100}, 'strength': {'id': 70, 'power': 80, 'type': 'normal', 'accuracy': 100}, 'snore': {'id': 173, 'power': 50, 'type': 'normal', 'accuracy': 100}, 'rock-smash': {'id': 249, 'power': 40, 'type': 'fighting', 'accuracy': 100}, 'outrage': {'id': 200, 'power': 120, 'type': 'dragon', 'accuracy': 100}, 'vine-whip': {'id': 22, 'power': 45, 'type': 'grass', 'accuracy': 100}, 'mega-drain': {'id': 72, 'power': 40, 'type': 'grass', 'accuracy': 100}, 'tackle': {'id': 33, 'power': 40, 'type': 'normal', 'accuracy': 100}, 'rage': {'id': 99, 'power': 20, 'type': 'normal', 'accuracy': 100}, 'cut': {'id': 15, 'power': 50, 'type': 'normal', 'accuracy': 95}, 'facade': {'id': 263, 'power': 70, 'type': 'normal', 'accuracy': 100}, 'weather-ball': {'id': 311, 'power': 50, 'type': 'normal', 'accuracy': 100}, 'acid-spray': {'id': 491, 'power': 40, 'type': 'poison', 'accuracy': 100}, 'leaf-storm': {'id': 437, 'power': 130, 'type': 'grass', 'accuracy': 90}, 'giga-drain': {'id': 202, 'power': 75, 'type': 'grass', 'accuracy': 100}, 'sludge-bomb': {'id': 188, 'power': 90, 'type': 'poison', 'accuracy': 100}, 'tera-blast': {'id': 851, 'power': 80, 'type': 'normal', 'accuracy': 100}, 'solar-beam': {'id': 76, 'power': 120, 'type': 'grass', 'accuracy': 100}, 'body-slam': {'id': 34, 'power': 85, 'type': 'normal', 'accuracy': 100}, 'razor-wind': {'id': 13, 'power': 80, 'type': 'normal', 'accuracy': 100}, 'double-edge': {'id': 38, 'power': 120, 'type': 'normal', 'accuracy': 100}, 'take-down': {'id': 36, 'power': 90, 'type': 'normal', 'accuracy': 85}, 'echoed-voice': {'id': 497, 'power': 40, 'type': 'normal', 'accuracy': 100}, 'razor-leaf': {'id': 75, 'power': 55, 'type': 'grass', 'accuracy': 95}, 'petal-dance': {'id': 80, 'power': 120, 'type': 'grass', 'accuracy': 100}, 'grassy-glide': {'id': 803, 'power': 55, 'type': 'grass', 'accuracy': 100}, 'grass-pledge': {'id': 520, 'power': 80, 'type': 'grass', 'accuracy': 100}, 'mud-slap': {'id': 189, 'power': 20, 'type': 'ground', 'accuracy': 100}, 'energy-ball': {'id': 412, 'power': 90, 'type': 'grass', 'accuracy': 100}, 'fury-cutter': {'id': 210, 'power': 40, 'type': 'bug', 'accuracy': 95}, 'false-swipe': {'id': 206, 'power': 40, 'type': 'normal', 'accuracy': 100}, 'bullet-seed': {'id': 331, 'power': 25, 'type': 'grass', 'accuracy': 100}, 'seed-bomb': {'id': 402, 'power': 80, 'type': 'grass', 'accuracy': 100}, 'headbutt': {'id': 29, 'power': 70, 'type': 'normal', 'accuracy': 100}}\n"
     ]
    }
   ],
   "source": [
    "import pokebase as pb\n",
    "import time\n",
    "\n",
    "movements = {}\n",
    "inicio = time.time()\n",
    "\n",
    "for move_name in moves_set:\n",
    "    \n",
    "    move = pb.move(move_name)\n",
    "    \n",
    "    if move.power != None:\n",
    "        movements[move.name] = {}\n",
    "        movements[move.name]['id'] = move.id\n",
    "        movements[move.name]['power'] = move.power\n",
    "        movements[move.name]['type'] = move.type.name\n",
    "        movements[move.name]['accuracy'] = move.accuracy\n",
    "\n",
    "print(movements)"
   ]
  },
  {
   "cell_type": "markdown",
   "metadata": {},
   "source": [
    "## Remove all movements non offensive from all the Pokemons"
   ]
  },
  {
   "cell_type": "code",
   "execution_count": 4,
   "metadata": {},
   "outputs": [],
   "source": [
    "for id in pokemons:\n",
    "    for movement in pokemons[id][\"moves\"]:\n",
    "        if movement not in movements.keys():\n",
    "            pokemon[\"moves\"].remove(movement)"
   ]
  },
  {
   "cell_type": "markdown",
   "metadata": {},
   "source": [
    "## Download all the pokemons and movements that have been collected."
   ]
  },
  {
   "cell_type": "code",
   "execution_count": 5,
   "metadata": {},
   "outputs": [],
   "source": [
    "import json\n",
    "\n",
    "# Pokemons\n",
    "with open(\"pokemons.json\", \"w\") as f:\n",
    "    json.dump(pokemons, f)\n",
    "\n",
    "# Movimientos\n",
    "with open(\"movements.json\", \"w\") as f:\n",
    "    json.dump(movements, f)"
   ]
  }
 ],
 "metadata": {
  "kernelspec": {
   "display_name": "base",
   "language": "python",
   "name": "python3"
  },
  "language_info": {
   "codemirror_mode": {
    "name": "ipython",
    "version": 3
   },
   "file_extension": ".py",
   "mimetype": "text/x-python",
   "name": "python",
   "nbconvert_exporter": "python",
   "pygments_lexer": "ipython3",
   "version": "3.12.7"
  }
 },
 "nbformat": 4,
 "nbformat_minor": 2
}
