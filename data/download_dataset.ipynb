{
 "cells": [
  {
   "cell_type": "markdown",
   "metadata": {},
   "source": [
    "# Download a JSON file with all pokemons chosen\n",
    "\n",
    "Is needed to download the python module `pokebase`, this module works like a bridge between python and https://pokeapi.co/"
   ]
  },
  {
   "cell_type": "markdown",
   "metadata": {},
   "source": [
    "## Get all pokemons from the API\n",
    "\n",
    "- We get the first 50 pokemons"
   ]
  },
  {
   "cell_type": "code",
   "execution_count": 1,
   "metadata": {},
   "outputs": [
    {
     "name": "stdout",
     "output_type": "stream",
     "text": [
      "{1: {'name': 'bulbasaur', 'types': ['Grass', 'Poison']}, 2: {'name': 'ivysaur', 'types': ['Grass', 'Poison']}, 3: {'name': 'venusaur', 'types': ['Grass', 'Poison']}, 4: {'name': 'charmander', 'types': ['Fire']}, 5: {'name': 'charmeleon', 'types': ['Fire']}, 6: {'name': 'charizard', 'types': ['Fire', 'Flying']}, 7: {'name': 'squirtle', 'types': ['Water']}, 8: {'name': 'wartortle', 'types': ['Water']}, 9: {'name': 'blastoise', 'types': ['Water']}, 10: {'name': 'caterpie', 'types': ['Bug']}, 11: {'name': 'metapod', 'types': ['Bug']}, 12: {'name': 'butterfree', 'types': ['Bug', 'Flying']}, 13: {'name': 'weedle', 'types': ['Bug', 'Poison']}, 14: {'name': 'kakuna', 'types': ['Bug', 'Poison']}, 15: {'name': 'beedrill', 'types': ['Bug', 'Poison']}, 16: {'name': 'pidgey', 'types': ['Normal', 'Flying']}, 17: {'name': 'pidgeotto', 'types': ['Normal', 'Flying']}, 18: {'name': 'pidgeot', 'types': ['Normal', 'Flying']}, 19: {'name': 'rattata', 'types': ['Normal']}, 20: {'name': 'raticate', 'types': ['Normal']}, 21: {'name': 'spearow', 'types': ['Normal', 'Flying']}, 22: {'name': 'fearow', 'types': ['Normal', 'Flying']}, 23: {'name': 'ekans', 'types': ['Poison']}, 24: {'name': 'arbok', 'types': ['Poison']}, 25: {'name': 'pikachu', 'types': ['Electric']}, 26: {'name': 'raichu', 'types': ['Electric']}, 27: {'name': 'sandshrew', 'types': ['Ground']}, 28: {'name': 'sandslash', 'types': ['Ground']}, 29: {'name': 'nidoran-f', 'types': ['Poison']}, 30: {'name': 'nidorina', 'types': ['Poison']}, 31: {'name': 'nidoqueen', 'types': ['Poison', 'Ground']}, 32: {'name': 'nidoran-m', 'types': ['Poison']}, 33: {'name': 'nidorino', 'types': ['Poison']}, 34: {'name': 'nidoking', 'types': ['Poison', 'Ground']}, 35: {'name': 'clefairy', 'types': ['Fairy']}, 36: {'name': 'clefable', 'types': ['Fairy']}, 37: {'name': 'vulpix', 'types': ['Fire']}, 38: {'name': 'ninetales', 'types': ['Fire']}, 39: {'name': 'jigglypuff', 'types': ['Normal', 'Fairy']}, 40: {'name': 'wigglytuff', 'types': ['Normal', 'Fairy']}, 41: {'name': 'zubat', 'types': ['Poison', 'Flying']}, 42: {'name': 'golbat', 'types': ['Poison', 'Flying']}, 43: {'name': 'oddish', 'types': ['Grass', 'Poison']}, 44: {'name': 'gloom', 'types': ['Grass', 'Poison']}, 45: {'name': 'vileplume', 'types': ['Grass', 'Poison']}, 46: {'name': 'paras', 'types': ['Bug', 'Grass']}, 47: {'name': 'parasect', 'types': ['Bug', 'Grass']}, 48: {'name': 'venonat', 'types': ['Bug', 'Poison']}, 49: {'name': 'venomoth', 'types': ['Bug', 'Poison']}}\n"
     ]
    }
   ],
   "source": [
    "import pokebase as pb\n",
    "\n",
    "pokemons = {}\n",
    "\n",
    "for id in range(1, 50):\n",
    "    pokemon = pb.pokemon(id)\n",
    "    \n",
    "    pokemons[id] = {}\n",
    "    pokemons[id][\"name\"] = pokemon.name\n",
    "\n",
    "    pokemons[id][\"types\"] = []\n",
    "    \n",
    "    for type_slot in pokemon.types:\n",
    "        pokemons[id][\"types\"].append(type_slot.type.name.title())\n",
    "\n",
    "print(pokemons)"
   ]
  },
  {
   "cell_type": "markdown",
   "metadata": {},
   "source": [
    "## Get all pokemons from the API\n",
    "\n",
    "- We get only the ofensive movements, this all movements has power "
   ]
  },
  {
   "cell_type": "code",
   "execution_count": 4,
   "metadata": {},
   "outputs": [],
   "source": [
    "import pokebase as pb\n",
    "\n",
    "movements = {}\n",
    "\n",
    "TYPES = ['normal', 'fighting', 'flying', 'poison', 'ground', 'rock', 'bug', 'ghost', 'steel', 'fire', 'water', 'grass', 'electric', 'psychic', 'ice', 'dragon', 'dark', 'fairy']\n",
    "\n",
    "for pokemon_type in TYPES:\n",
    "    \n",
    "    type_moves = pb.type_(pokemon_type).moves\n",
    "\n",
    "    for move in type_moves:\n",
    "        if move.power != None:\n",
    "            movements[move.name] = {}\n",
    "            movements[move.name] = move.id\n",
    "            movements[move.name] = move.power\n",
    "            movements[move.name] = move.type.name\n",
    "\n",
    "print(movements)"
   ]
  },
  {
   "cell_type": "markdown",
   "metadata": {},
   "source": [
    "## Download all the pokemons and movements that have been collected."
   ]
  },
  {
   "cell_type": "code",
   "execution_count": 3,
   "metadata": {},
   "outputs": [],
   "source": [
    "import json\n",
    "\n",
    "# Pokemons\n",
    "with open(\"pokemons.json\", \"w\") as f:\n",
    "    json.dump(pokemons, f)\n",
    "\n",
    "# Movimientos\n",
    "with open(\"movements.json\", \"w\") as f:\n",
    "    json.dump(movements, f)"
   ]
  }
 ],
 "metadata": {
  "kernelspec": {
   "display_name": "base",
   "language": "python",
   "name": "python3"
  },
  "language_info": {
   "codemirror_mode": {
    "name": "ipython",
    "version": 3
   },
   "file_extension": ".py",
   "mimetype": "text/x-python",
   "name": "python",
   "nbconvert_exporter": "python",
   "pygments_lexer": "ipython3",
   "version": "3.11.3"
  }
 },
 "nbformat": 4,
 "nbformat_minor": 2
}
