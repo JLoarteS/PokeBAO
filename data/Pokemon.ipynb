{
 "cells": [
  {
   "cell_type": "markdown",
   "metadata": {},
   "source": [
    "# Pokemon class"
   ]
  },
  {
   "cell_type": "code",
   "execution_count": 26,
   "metadata": {},
   "outputs": [],
   "source": [
    "import pokebase as pb\n",
    "import json\n",
    "\n",
    "class Move:\n",
    "    def __init__(self, name = None):\n",
    "        self.name = name\n",
    "        \n",
    "        self.power = None\n",
    "        self.type = None\n",
    "        self.accuracy = None\n",
    "\n",
    "        if name is not None:\n",
    "            with open(\"movements.json\", \"r\") as f:\n",
    "                movements = json.load(f)\n",
    "            self.power = movements[name][\"power\"]\n",
    "            self.type = movements[name][\"type\"]\n",
    "            self.accuracy = movements[name][\"accuracy\"]\n",
    "\n",
    "class Pokemon:\n",
    "    # id ; nombre ; tipo1 ; tipo2 ; ataque ; defensa ; move1,2,3,4\n",
    "    def __init__(self, id):\n",
    "        self.id = id\n",
    "        with open(\"pokemons.json\", \"r\") as f:\n",
    "            poke = json.load(f)\n",
    "        self.name = poke[str(id)][\"name\"]\n",
    "        self.type1 = poke[str(id)][\"types\"][0]\n",
    "        self.type2 = poke[str(id)][\"types\"][1]\n",
    "        self.attack = poke[str(id)][\"attack\"]\n",
    "        self.defense = poke[str(id)][\"defense\"]\n",
    "        self.movementList = poke[str(id)][\"moves\"]\n",
    "        self.move1 = Move()\n",
    "        self.move2 = Move()\n",
    "        self.move3 = Move()\n",
    "        self.move4 = Move()\n",
    "\n",
    "\n",
    "    "
   ]
  },
  {
   "cell_type": "markdown",
   "metadata": {},
   "source": [
    "# Damage calculation (fitness function)"
   ]
  },
  {
   "cell_type": "code",
   "execution_count": 41,
   "metadata": {},
   "outputs": [],
   "source": [
    "from dataset import get_types_matrix\n",
    "\n",
    "def damage_calculation(poke_attacker:Pokemon, poke_defender:Pokemon):\n",
    "    LEVEL = 100\n",
    "    CRITICAL = 1\n",
    "    RANDOM = 100\n",
    "\n",
    "    def fun_damage(attacker, move, defender):\n",
    "        LEVEL = 100\n",
    "        CRITICAL = 1\n",
    "        RANDOM = 100\n",
    "\n",
    "        if move.name == None:\n",
    "            return 0\n",
    "        \n",
    "        return (\n",
    "            (((((2 * LEVEL * CRITICAL) / 5 + 2) * move.power * attacker.ata * defender.defe) / 50) + 2) *\n",
    "            stab(attacker, move) *\n",
    "            get_types_matrix[defender.type1][move.type] *\n",
    "            get_types_matrix[defender.type2][move.type] *\n",
    "            RANDOM\n",
    "        )\n",
    "\n",
    "    damage1 = fun_damage(poke_attacker, poke_attacker.move1, poke_defender)\n",
    "    damage2 = fun_damage(poke_attacker, poke_attacker.move2, poke_defender)\n",
    "    damage3 = fun_damage(poke_attacker, poke_attacker.move3, poke_defender)\n",
    "    damage4 = fun_damage(poke_attacker, poke_attacker.move4, poke_defender)\n",
    "    \n",
    "    return damage1 + damage2 + damage3 + damage4\n",
    "\n",
    "def stab(poke:Pokemon, move:Move):\n",
    "    ret = 1\n",
    "    if(poke.type1 == move.type | poke.type2 == move.type):\n",
    "        ret = 1.5\n",
    "    else:\n",
    "        ret = 1\n",
    "    "
   ]
  },
  {
   "cell_type": "code",
   "execution_count": null,
   "metadata": {},
   "outputs": [
    {
     "ename": "AttributeError",
     "evalue": "'str' object has no attribute 'name'",
     "output_type": "error",
     "traceback": [
      "\u001b[0;31m---------------------------------------------------------------------------\u001b[0m",
      "\u001b[0;31mAttributeError\u001b[0m                            Traceback (most recent call last)",
      "Cell \u001b[0;32mIn[43], line 9\u001b[0m\n\u001b[1;32m      6\u001b[0m pokemon1\u001b[38;5;241m.\u001b[39mmove3 \u001b[38;5;241m=\u001b[39m pokemon1\u001b[38;5;241m.\u001b[39mmovementList[\u001b[38;5;241m2\u001b[39m]\n\u001b[1;32m      7\u001b[0m pokemon1\u001b[38;5;241m.\u001b[39mmove4 \u001b[38;5;241m=\u001b[39m pokemon1\u001b[38;5;241m.\u001b[39mmovementList[\u001b[38;5;241m4\u001b[39m]\n\u001b[0;32m----> 9\u001b[0m \u001b[38;5;28mprint\u001b[39m(damage_calculation(pokemon1, pokemon2))\n",
      "Cell \u001b[0;32mIn[41], line 24\u001b[0m, in \u001b[0;36mdamage_calculation\u001b[0;34m(poke_attacker, poke_defender)\u001b[0m\n\u001b[1;32m     14\u001b[0m         \u001b[38;5;28;01mreturn\u001b[39;00m \u001b[38;5;241m0\u001b[39m\n\u001b[1;32m     16\u001b[0m     \u001b[38;5;28;01mreturn\u001b[39;00m (\n\u001b[1;32m     17\u001b[0m         (((((\u001b[38;5;241m2\u001b[39m \u001b[38;5;241m*\u001b[39m LEVEL \u001b[38;5;241m*\u001b[39m CRITICAL) \u001b[38;5;241m/\u001b[39m \u001b[38;5;241m5\u001b[39m \u001b[38;5;241m+\u001b[39m \u001b[38;5;241m2\u001b[39m) \u001b[38;5;241m*\u001b[39m move\u001b[38;5;241m.\u001b[39mpower \u001b[38;5;241m*\u001b[39m attacker\u001b[38;5;241m.\u001b[39mata \u001b[38;5;241m*\u001b[39m defender\u001b[38;5;241m.\u001b[39mdefe) \u001b[38;5;241m/\u001b[39m \u001b[38;5;241m50\u001b[39m) \u001b[38;5;241m+\u001b[39m \u001b[38;5;241m2\u001b[39m) \u001b[38;5;241m*\u001b[39m\n\u001b[1;32m     18\u001b[0m         stab(attacker, move) \u001b[38;5;241m*\u001b[39m\n\u001b[0;32m   (...)\u001b[0m\n\u001b[1;32m     21\u001b[0m         RANDOM\n\u001b[1;32m     22\u001b[0m     )\n\u001b[0;32m---> 24\u001b[0m damage1 \u001b[38;5;241m=\u001b[39m fun_damage(poke_attacker, poke_attacker\u001b[38;5;241m.\u001b[39mmove1, poke_defender)\n\u001b[1;32m     25\u001b[0m damage2 \u001b[38;5;241m=\u001b[39m fun_damage(poke_attacker, poke_attacker\u001b[38;5;241m.\u001b[39mmove2, poke_defender)\n\u001b[1;32m     26\u001b[0m damage3 \u001b[38;5;241m=\u001b[39m fun_damage(poke_attacker, poke_attacker\u001b[38;5;241m.\u001b[39mmove3, poke_defender)\n",
      "Cell \u001b[0;32mIn[41], line 13\u001b[0m, in \u001b[0;36mdamage_calculation.<locals>.fun_damage\u001b[0;34m(attacker, move, defender)\u001b[0m\n\u001b[1;32m     10\u001b[0m CRITICAL \u001b[38;5;241m=\u001b[39m \u001b[38;5;241m1\u001b[39m\n\u001b[1;32m     11\u001b[0m RANDOM \u001b[38;5;241m=\u001b[39m \u001b[38;5;241m100\u001b[39m\n\u001b[0;32m---> 13\u001b[0m \u001b[38;5;28;01mif\u001b[39;00m move\u001b[38;5;241m.\u001b[39mname \u001b[38;5;241m==\u001b[39m \u001b[38;5;28;01mNone\u001b[39;00m:\n\u001b[1;32m     14\u001b[0m     \u001b[38;5;28;01mreturn\u001b[39;00m \u001b[38;5;241m0\u001b[39m\n\u001b[1;32m     16\u001b[0m \u001b[38;5;28;01mreturn\u001b[39;00m (\n\u001b[1;32m     17\u001b[0m     (((((\u001b[38;5;241m2\u001b[39m \u001b[38;5;241m*\u001b[39m LEVEL \u001b[38;5;241m*\u001b[39m CRITICAL) \u001b[38;5;241m/\u001b[39m \u001b[38;5;241m5\u001b[39m \u001b[38;5;241m+\u001b[39m \u001b[38;5;241m2\u001b[39m) \u001b[38;5;241m*\u001b[39m move\u001b[38;5;241m.\u001b[39mpower \u001b[38;5;241m*\u001b[39m attacker\u001b[38;5;241m.\u001b[39mata \u001b[38;5;241m*\u001b[39m defender\u001b[38;5;241m.\u001b[39mdefe) \u001b[38;5;241m/\u001b[39m \u001b[38;5;241m50\u001b[39m) \u001b[38;5;241m+\u001b[39m \u001b[38;5;241m2\u001b[39m) \u001b[38;5;241m*\u001b[39m\n\u001b[1;32m     18\u001b[0m     stab(attacker, move) \u001b[38;5;241m*\u001b[39m\n\u001b[0;32m   (...)\u001b[0m\n\u001b[1;32m     21\u001b[0m     RANDOM\n\u001b[1;32m     22\u001b[0m )\n",
      "\u001b[0;31mAttributeError\u001b[0m: 'str' object has no attribute 'name'"
     ]
    }
   ],
   "source": [
    "pokemon1 = Pokemon(1)\n",
    "pokemon2 = Pokemon(1)\n",
    "\n",
    "pokemon1.move1 = Move(pokemon1.movementList[3])\n",
    "pokemon1.move2 = pokemon1.movementList[1]\n",
    "pokemon1.move3 = pokemon1.movementList[2]\n",
    "pokemon1.move4 = pokemon1.movementList[4]\n",
    "\n",
    "print(damage_calculation(pokemon1, pokemon2))\n",
    "# Arriba defensores\n",
    "# Columna atacantes"
   ]
  }
 ],
 "metadata": {
  "kernelspec": {
   "display_name": "base",
   "language": "python",
   "name": "python3"
  },
  "language_info": {
   "codemirror_mode": {
    "name": "ipython",
    "version": 3
   },
   "file_extension": ".py",
   "mimetype": "text/x-python",
   "name": "python",
   "nbconvert_exporter": "python",
   "pygments_lexer": "ipython3",
   "version": "3.12.7"
  }
 },
 "nbformat": 4,
 "nbformat_minor": 2
}
