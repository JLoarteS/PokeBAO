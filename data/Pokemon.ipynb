{
 "cells": [
  {
   "cell_type": "markdown",
   "metadata": {},
   "source": [
    "# Pokemon class"
   ]
  },
  {
   "cell_type": "code",
   "execution_count": 143,
   "metadata": {},
   "outputs": [],
   "source": [
    "import pokebase as pb\n",
    "import json\n",
    "\n",
    "class Move:\n",
    "    def __init__(self, name = None):\n",
    "        self.name = name\n",
    "        \n",
    "        self.power = None\n",
    "        self.type = None\n",
    "        self.accuracy = None\n",
    "\n",
    "        if name is not None:\n",
    "            with open(\"movements.json\", \"r\") as f:\n",
    "                movements = json.load(f)\n",
    "            self.power = movements[name][\"power\"]\n",
    "            self.type = movements[name][\"type\"]\n",
    "            self.accuracy = movements[name][\"accuracy\"]\n",
    "\n",
    "class Pokemon:\n",
    "    # id ; nombre ; tipo1 ; tipo2 ; ataque ; defensa ; move1,2,3,4\n",
    "    def __init__(self, id):\n",
    "        self.id = id\n",
    "        with open(\"pokemons.json\", \"r\") as f:\n",
    "            poke = json.load(f)\n",
    "        self.name = poke[str(id)][\"name\"]\n",
    "        self.type1 = poke[str(id)][\"types\"][0]\n",
    "        if(len(poke[str(id)][\"types\"]) == 2):\n",
    "            self.type2 = poke[str(id)][\"types\"][1]\n",
    "        else:\n",
    "            self.type2 = \"joker\"\n",
    "        self.attack = poke[str(id)][\"attack\"]\n",
    "        self.defense = poke[str(id)][\"defense\"]\n",
    "        self.movementList = poke[str(id)][\"moves\"]\n",
    "        self.move1 = Move()\n",
    "        self.move2 = Move()\n",
    "        self.move3 = Move()\n",
    "        self.move4 = Move()\n",
    "\n",
    "\n",
    "\n",
    "    "
   ]
  },
  {
   "cell_type": "markdown",
   "metadata": {},
   "source": [
    "# Damage calculation (fitness function)"
   ]
  },
  {
   "cell_type": "code",
   "execution_count": 144,
   "metadata": {},
   "outputs": [],
   "source": [
    "from dataset import get_types_matrix\n",
    "\n",
    "def damage_calculation(poke_attacker:Pokemon, poke_defender:Pokemon):\n",
    "    LEVEL = 100\n",
    "    CRITICAL = 1\n",
    "    RANDOM = 100\n",
    "\n",
    "    def fun_damage(attacker, move, defender):\n",
    "        LEVEL = 100\n",
    "        CRITICAL = 1\n",
    "        RANDOM = 100\n",
    "\n",
    "        if move.name == None:\n",
    "            return 0\n",
    "        \n",
    "        \n",
    "        base = (((2 * LEVEL * CRITICAL / 5 + 2) * move.power * poke_attacker.attack / poke_defender.defense) / 50)\n",
    "        return ((base + 2) * stab(poke_attacker, move) * get_types_matrix()[defender.type1][move.type] * get_types_matrix()[defender.type2][move.type] * RANDOM * (move.accuracy/100))\n",
    "        \n",
    "\n",
    "    damage1 = fun_damage(poke_attacker, poke_attacker.move1, poke_defender)\n",
    "    damage2 = fun_damage(poke_attacker, poke_attacker.move2, poke_defender)\n",
    "    damage3 = fun_damage(poke_attacker, poke_attacker.move3, poke_defender)\n",
    "    damage4 = fun_damage(poke_attacker, poke_attacker.move4, poke_defender)\n",
    "    \n",
    "    return damage1 + damage2 + damage3 + damage4\n",
    "\n",
    "def stab(poke:Pokemon, move:Move):\n",
    "    ret = 1\n",
    "    if((poke.type1 == move.type) | (poke.type2 == move.type)):\n",
    "        ret = 1.5\n",
    "    else:\n",
    "        ret = 1\n",
    "    return ret\n",
    "    "
   ]
  },
  {
   "cell_type": "code",
   "execution_count": 146,
   "metadata": {},
   "outputs": [
    {
     "name": "stdout",
     "output_type": "stream",
     "text": [
      "14486.0\n"
     ]
    }
   ],
   "source": [
    "pokemon1 = Pokemon(1)\n",
    "pokemon2 = Pokemon(1)\n",
    "\n",
    "\n",
    "\n",
    "pokemon1.move1 = Move(pokemon1.movementList[1])\n",
    "pokemon1.move2 = Move(pokemon1.movementList[2])\n",
    "pokemon1.move3 = Move(pokemon1.movementList[3])\n",
    "pokemon1.move4 = Move(pokemon1.movementList[4])\n",
    "\n",
    "print(damage_calculation(pokemon1, pokemon2))\n",
    "# Arriba defensores\n",
    "# Columna atacantes\n"
   ]
  },
  {
   "cell_type": "markdown",
   "metadata": {},
   "source": [
    "# PRUEBA DE ATAQUE"
   ]
  },
  {
   "cell_type": "code",
   "execution_count": null,
   "metadata": {},
   "outputs": [],
   "source": [
    "((2*100*1/5)+2)*80\n",
    "ata 49\n",
    "\"razor-wind\": {\"id\": 13, \"power\": 80, \"type\": \"normal\", \"accuracy\": 100}"
   ]
  }
 ],
 "metadata": {
  "kernelspec": {
   "display_name": "base",
   "language": "python",
   "name": "python3"
  },
  "language_info": {
   "codemirror_mode": {
    "name": "ipython",
    "version": 3
   },
   "file_extension": ".py",
   "mimetype": "text/x-python",
   "name": "python",
   "nbconvert_exporter": "python",
   "pygments_lexer": "ipython3",
   "version": "3.12.7"
  }
 },
 "nbformat": 4,
 "nbformat_minor": 2
}
