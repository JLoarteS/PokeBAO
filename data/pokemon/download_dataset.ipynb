{
 "cells": [
  {
   "cell_type": "markdown",
   "metadata": {},
   "source": [
    "# Download a JSON file with all pokemons chosen\n",
    "\n",
    "Is needed to download the python module `pokebase`, this module works like a bridge between python and https://pokeapi.co/"
   ]
  },
  {
   "cell_type": "markdown",
   "metadata": {},
   "source": [
    "## Get all first generation Pokemons from the API"
   ]
  },
  {
   "cell_type": "code",
   "execution_count": null,
   "metadata": {},
   "outputs": [],
   "source": [
    "import pokebase as pb\n",
    "\n",
    "generation = pb.generation(1)\n",
    "\n",
    "pokemons_list = [pokemon.name for pokemon in generation.pokemon_species]\n",
    "movements_list = [move.name for move in generation.moves]\n",
    "\n",
    "print(\"Pokemons:\", len(pokemons_list))\n",
    "print(\"Movements:\", len(movements_list))"
   ]
  },
  {
   "cell_type": "code",
   "execution_count": null,
   "metadata": {},
   "outputs": [],
   "source": [
    "import pokebase as pb\n",
    "\n",
    "pokemons = {}\n",
    "\n",
    "for name in pokemons_list:\n",
    "    pokemon = pb.pokemon(name)\n",
    "    \n",
    "    pokemons[pokemon.id] = {}\n",
    "    pokemons[pokemon.id][\"name\"] = name\n",
    "\n",
    "    # Get all stats from the Pokemon\n",
    "    for stat in pokemon.stats:\n",
    "        pokemons[pokemon.id][stat.stat.name] = stat.base_stat\n",
    "\n",
    "    pokemons[pokemon.id][\"types\"] = [type_slot.type.name for type_slot in pokemon.types]\n",
    "    \n",
    "    pokemons[pokemon.id][\"moves\"] = [move_slot.move.name for move_slot in pokemon.moves]\n",
    "\n",
    "print(pokemons)"
   ]
  },
  {
   "cell_type": "markdown",
   "metadata": {},
   "source": [
    "## Get all pokemons from the API\n",
    "\n",
    "- We get only the ofensive movements (the all offensive movements has any power) "
   ]
  },
  {
   "cell_type": "code",
   "execution_count": null,
   "metadata": {},
   "outputs": [],
   "source": [
    "import pokebase as pb\n",
    "\n",
    "movements = {}\n",
    "\n",
    "for move_name in movements_list:\n",
    "    \n",
    "    move = pb.move(move_name)\n",
    "    \n",
    "    if move.power != None:\n",
    "        movements[move.name] = {}\n",
    "        movements[move.name]['id'] = move.id\n",
    "        movements[move.name]['power'] = move.power\n",
    "        movements[move.name]['type'] = move.type.name\n",
    "        movements[move.name]['accuracy'] = move.accuracy\n",
    "\n",
    "print(movements)"
   ]
  },
  {
   "cell_type": "markdown",
   "metadata": {},
   "source": [
    "## Remove all non offensive movements from all the Pokemons"
   ]
  },
  {
   "cell_type": "code",
   "execution_count": null,
   "metadata": {},
   "outputs": [],
   "source": [
    "for id in pokemons:\n",
    "    for movement in pokemons[id][\"moves\"]:\n",
    "        if movement not in movements.keys():\n",
    "            pokemons[id][\"moves\"].remove(movement)"
   ]
  },
  {
   "cell_type": "markdown",
   "metadata": {},
   "source": [
    "## Download all the pokemons and movements that have been collected."
   ]
  },
  {
   "cell_type": "code",
   "execution_count": null,
   "metadata": {},
   "outputs": [],
   "source": [
    "import json\n",
    "\n",
    "# Check if is all the 151 Pokemon\n",
    "if len(pokemons) != 151:\n",
    "    raise Exception(\"Error: not 151 Pokemons, another generation?\")\n",
    "\n",
    "# Pokemons\n",
    "with open(\"pokemons.json\", \"w\") as f:\n",
    "    json.dump(pokemons, f)\n",
    "\n",
    "# Movements\n",
    "with open(\"movements.json\", \"w\") as f:\n",
    "    json.dump(movements, f)"
   ]
  }
 ],
 "metadata": {
  "kernelspec": {
   "display_name": "base",
   "language": "python",
   "name": "python3"
  },
  "language_info": {
   "codemirror_mode": {
    "name": "ipython",
    "version": 3
   },
   "file_extension": ".py",
   "mimetype": "text/x-python",
   "name": "python",
   "nbconvert_exporter": "python",
   "pygments_lexer": "ipython3",
   "version": "3.12.7"
  }
 },
 "nbformat": 4,
 "nbformat_minor": 2
}
