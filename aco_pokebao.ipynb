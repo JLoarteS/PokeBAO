{
 "cells": [
  {
   "cell_type": "markdown",
   "metadata": {},
   "source": [
    "# Ant Colony Optimization\n",
    "\n",
    "## Modules required"
   ]
  },
  {
   "cell_type": "code",
   "execution_count": 1,
   "metadata": {},
   "outputs": [],
   "source": [
    "# Imports for all of the code\n",
    "import numpy as np\n",
    "from copy import deepcopy\n",
    "from typing import List, Dict\n",
    "from random import randrange\n",
    "from data.pokemon import *\n"
   ]
  },
  {
   "cell_type": "markdown",
   "metadata": {},
   "source": [
    "## ACO Class"
   ]
  },
  {
   "cell_type": "code",
   "execution_count": 12,
   "metadata": {},
   "outputs": [
    {
     "ename": "SyntaxError",
     "evalue": "invalid syntax (3970208601.py, line 106)",
     "output_type": "error",
     "traceback": [
      "\u001b[0;36m  Cell \u001b[0;32mIn[12], line 106\u001b[0;36m\u001b[0m\n\u001b[0;31m    pokeTeam : Pokemon[]\u001b[0m\n\u001b[0m                       ^\u001b[0m\n\u001b[0;31mSyntaxError\u001b[0m\u001b[0;31m:\u001b[0m invalid syntax\n"
     ]
    }
   ],
   "source": [
    "class ACOPokeBAO:\n",
    "\n",
    "    def __init__(self, max_capacity: float, items: List[Dict[str,float]], n_ants: int = 10, alpha: float = 1, beta: float = 5, rho: float = 0.8):\n",
    "        \"\"\"\n",
    "        self.values = np.array([item['value'] for item in items])\n",
    "        self.weights = np.array([item['weight'] for item in items])\n",
    "        self.max_capacity = max_capacity\n",
    "        \"\"\"\n",
    "        self.n_ants = n_ants\n",
    "        self.alpha = alpha\n",
    "        self.beta = beta\n",
    "        self.rho = rho\n",
    "\n",
    "        self.pheromone = None\n",
    "        self.best_solution = None\n",
    "        self.best_fitness = None\n",
    "\n",
    "        self.pheromone_history = []\n",
    "        self.trails_history = []\n",
    "        self.best_fitness_history = []\n",
    "\n",
    "        self.ficheroEntrada = \"data/pokemons.json\"\n",
    "        self.tamanoEquipo = 6\n",
    "\n",
    "    def optimize(self, max_evaluations: int = 1000):\n",
    "        self._initialize()\n",
    "\n",
    "        n_evaluations = 0\n",
    "        iter_fitness = 1e-10\n",
    "        while n_evaluations < max_evaluations:\n",
    "            trails = []\n",
    "            for _ in range(self.n_ants):\n",
    "                solution = self._construct_solution()\n",
    "                fitness = self._evaluate(solution)\n",
    "                n_evaluations += 1\n",
    "                trails.append((solution, fitness))\n",
    "\n",
    "                if fitness > self.best_fitness:\n",
    "                    self.best_solution = solution\n",
    "                    self.best_fitness = fitness\n",
    "\n",
    "            self._update_pheromone(trails, iter_fitness)\n",
    "            iter_fitness = self.best_fitness\n",
    "\n",
    "            self.trails_history.append(deepcopy(trails))\n",
    "            self.best_fitness_history.append(self.best_fitness)\n",
    "\n",
    "        return self.best_solution\n",
    "\n",
    "    def _initialize(self):\n",
    "        self.pheromone = np.ones(len(self.weights))\n",
    "        self.best_solution = None\n",
    "        self.best_fitness = float('-inf')\n",
    "\n",
    "        self.pheromone_history = []\n",
    "        self.trails_history = []\n",
    "        self.best_fitness_history = []\n",
    "\n",
    "    def _evaluate(self, solution: List[int]) -> float:\n",
    "        pass\n",
    "\n",
    "    def _construct_solution(self) -> List[int]:\n",
    "        solution = np.zeros(len(self.weights))\n",
    "\n",
    "        while True:\n",
    "            candidates = self._get_candidates(solution)\n",
    "\n",
    "            if len(candidates) == 0:\n",
    "                break\n",
    "            elif len(candidates) == 1:\n",
    "                solution[candidates[0]] = 1\n",
    "                break\n",
    "\n",
    "            pheromones = self.pheromone[candidates]**self.alpha\n",
    "            heuristic = self._heuristic(candidates)**self.beta\n",
    "\n",
    "            total = np.sum(pheromones * heuristic)\n",
    "            probabilities = (pheromones * heuristic) / total\n",
    "\n",
    "            solution[np.random.choice(candidates, p=probabilities)] = 1\n",
    "\n",
    "        return solution\n",
    "\n",
    "    def _heuristic(self, candidates: List[int]) -> np.ndarray:\n",
    "        pass\n",
    "\n",
    "    def _get_candidates(self, solution: List[int]) -> np.ndarray:\n",
    "        pass\n",
    "\n",
    "    def _update_pheromone(self, trails: List[List[int]], best_fitness):\n",
    "        pass\n",
    "\n",
    "    def evaluator(self,pokeTeam):\n",
    "        teamFit = 0\n",
    "\n",
    "        for x in pokeTeam:\n",
    "            teamFit += damage_calculation(x)\n",
    "        \n",
    "        return teamFit\n",
    "    \n",
    "    def generator(self):\n",
    "\n",
    "        with open(self.ficheroEntrada, \"r\") as f:\n",
    "            pokes = json.load(f)\n",
    "\n",
    "        pokeTeam : Pokemon[]\n",
    "        \n",
    "        pokeTeam.add(pokes[randrange[len(pokes)] + 1])\n",
    "\n",
    "        #TODO: si se repiten pokes, cambialo por otro que no lo esté\n",
    "        \n",
    "        for x in pokeTeam:\n",
    "            x.move1 = x.movementList[randrange[len(x.movementList)]]\n",
    "            x.move2 = x.movementList[randrange[len(x.movementList)]]\n",
    "            x.move3 = x.movementList[randrange[len(x.movementList)]]\n",
    "            x.move4 = x.movementList[randrange[len(x.movementList)]]\n",
    "\n",
    "        return pokeTeam\n"
   ]
  },
  {
   "cell_type": "code",
   "execution_count": 10,
   "metadata": {},
   "outputs": [
    {
     "ename": "TypeError",
     "evalue": "type 'Pokemon' is not subscriptable",
     "output_type": "error",
     "traceback": [
      "\u001b[0;31m---------------------------------------------------------------------------\u001b[0m",
      "\u001b[0;31mTypeError\u001b[0m                                 Traceback (most recent call last)",
      "Cell \u001b[0;32mIn[10], line 2\u001b[0m\n\u001b[1;32m      1\u001b[0m aco \u001b[38;5;241m=\u001b[39m ACOPokeBAO(\u001b[38;5;241m6\u001b[39m, \u001b[38;5;28;01mNone\u001b[39;00m)\n\u001b[0;32m----> 2\u001b[0m pokeTeam \u001b[38;5;241m=\u001b[39m aco\u001b[38;5;241m.\u001b[39mgenerator()\n\u001b[1;32m      4\u001b[0m \u001b[38;5;28mprint\u001b[39m(pokeTeam[\u001b[38;5;241m0\u001b[39m])\n",
      "Cell \u001b[0;32mIn[9], line 106\u001b[0m, in \u001b[0;36mACOPokeBAO.generator\u001b[0;34m(self)\u001b[0m\n\u001b[1;32m    103\u001b[0m \u001b[38;5;28;01mwith\u001b[39;00m \u001b[38;5;28mopen\u001b[39m(\u001b[38;5;28mself\u001b[39m\u001b[38;5;241m.\u001b[39mficheroEntrada, \u001b[38;5;124m\"\u001b[39m\u001b[38;5;124mr\u001b[39m\u001b[38;5;124m\"\u001b[39m) \u001b[38;5;28;01mas\u001b[39;00m f:\n\u001b[1;32m    104\u001b[0m     pokes \u001b[38;5;241m=\u001b[39m json\u001b[38;5;241m.\u001b[39mload(f)\n\u001b[0;32m--> 106\u001b[0m pokeTeam \u001b[38;5;241m=\u001b[39m Pokemon[\u001b[38;5;28mself\u001b[39m\u001b[38;5;241m.\u001b[39mtamanoEquipo]\n\u001b[1;32m    108\u001b[0m pokeTeam\u001b[38;5;241m.\u001b[39madd(pokes[randrange[\u001b[38;5;28mlen\u001b[39m(pokes)] \u001b[38;5;241m+\u001b[39m \u001b[38;5;241m1\u001b[39m])\n\u001b[1;32m    110\u001b[0m \u001b[38;5;66;03m#TODO: si se repiten pokes, cambialo por otro que no lo esté\u001b[39;00m\n",
      "\u001b[0;31mTypeError\u001b[0m: type 'Pokemon' is not subscriptable"
     ]
    }
   ],
   "source": [
    "aco = ACOPokeBAO(6, None)\n",
    "pokeTeam = aco.generator()\n",
    "\n",
    "print(pokeTeam[0])\n"
   ]
  },
  {
   "cell_type": "code",
   "execution_count": null,
   "metadata": {},
   "outputs": [],
   "source": [
    "capacity = 14239\n",
    "items = [(906, 845), (748, 758), (337, 421), (223, 259), (514, 512),\n",
    "         (492, 405), (705, 784), (314, 304), (519, 477), (594, 584),\n",
    "         (972, 909),  (513, 505), (375, 282), (777, 756), (637, 619),\n",
    "         (240, 251), (929, 910),  (960, 983), (826, 811), (861, 903),\n",
    "         (249, 311), (667, 730), (922, 899), (715, 684), (468, 473),\n",
    "         (19, 101), (487, 435), (687, 611), (999, 914),  (1036, 967),\n",
    "         (558, 478), (951, 866), (269, 261), (784, 806), (590, 549),\n",
    "         (32, 15), (783, 720), (469, 399), (904, 825), (687, 669), (97, 2),\n",
    "         (510, 494), (858, 868), (276, 244), (426, 326), (955, 871), (251, 192),\n",
    "         (484, 568), (262, 239), (965, 968)]\n",
    "items = [{'weight': w, 'value': v} for w,v in items]\n",
    "\n",
    "aco = ACOBinaryKnapSack(capacity, items)\n",
    "best_solution = aco.optimize()\n",
    "\n",
    "mask = np.argwhere(best_solution == 1).flatten()\n",
    "print(f\"Value: {np.sum(aco.values[mask])}, Weight: {np.sum(aco.weights[mask])}, Items: {mask}\")"
   ]
  }
 ],
 "metadata": {
  "kernelspec": {
   "display_name": "base",
   "language": "python",
   "name": "python3"
  },
  "language_info": {
   "codemirror_mode": {
    "name": "ipython",
    "version": 3
   },
   "file_extension": ".py",
   "mimetype": "text/x-python",
   "name": "python",
   "nbconvert_exporter": "python",
   "pygments_lexer": "ipython3",
   "version": "3.12.7"
  }
 },
 "nbformat": 4,
 "nbformat_minor": 2
}
