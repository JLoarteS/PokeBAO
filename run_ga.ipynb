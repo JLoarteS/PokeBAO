{
 "cells": [
  {
   "cell_type": "markdown",
   "metadata": {},
   "source": [
    "# Genetic Algorithm\n",
    "\n",
    "## Modules required"
   ]
  },
  {
   "cell_type": "code",
   "execution_count": null,
   "metadata": {},
   "outputs": [],
   "source": [
    "# Imports for all of the code\n",
    "from data.pokemon import *\n",
    "from src.experiment.ga.ga_experiment_executer import GAExperimentExecuter\n",
    "import numpy as np\n",
    "import matplotlib.pyplot as plt\n",
    "import seaborn as sns\n",
    "\n",
    "NUM_ALL_POKEMONS = 151"
   ]
  },
  {
   "cell_type": "markdown",
   "metadata": {},
   "source": [
    "## Run one execution "
   ]
  },
  {
   "cell_type": "code",
   "execution_count": null,
   "metadata": {},
   "outputs": [],
   "source": [
    "executer = GAExperimentExecuter(max_evaluations=1000)\n",
    "\n",
    "ga, candidate, fitness = executer.run_single_experiment('smogon', num_teams_def=1)\n",
    "\n",
    "print(f\"Best fitness: {fitness:.0f}\")\n",
    "print(f\"Best candidate: {[cand.name for cand in candidate]}\")"
   ]
  },
  {
   "cell_type": "markdown",
   "metadata": {},
   "source": [
    "## Process Visualization"
   ]
  },
  {
   "cell_type": "markdown",
   "metadata": {},
   "source": [
    "### Fitness evolution"
   ]
  },
  {
   "cell_type": "code",
   "execution_count": null,
   "metadata": {},
   "outputs": [],
   "source": [
    "import numpy as np\n",
    "import matplotlib.pyplot as plt\n",
    "import seaborn as sns\n",
    "sns.set_style('darkgrid')\n",
    "\n",
    "fitness = np.array([[ind[1] for ind in population] for population in ga.solutions_history])\n",
    "best_fitness = np.array(ga.best_fitness_history)\n",
    "\n",
    "fig, axs = plt.subplots(figsize=(5,5))\n",
    "axs.set_title('Fitness evolution')\n",
    "axs.set_xlabel('Iterations')\n",
    "axs.set_ylabel('Fitness')\n",
    "\n",
    "axs.plot(best_fitness, label='best_high')\n",
    "\n",
    "median = np.median(fitness, axis=1)\n",
    "min_array = np.min(fitness, axis=1)\n",
    "max_array = np.max(fitness, axis=1)\n",
    "axs.plot(median, label='iterations_high')\n",
    "axs.fill_between(np.arange(len(median)), min_array, max_array, alpha=0.3, color='orange')\n",
    "\n",
    "plt.legend()"
   ]
  },
  {
   "cell_type": "markdown",
   "metadata": {},
   "source": [
    "### Diversity evolution"
   ]
  },
  {
   "cell_type": "code",
   "execution_count": null,
   "metadata": {},
   "outputs": [],
   "source": [
    "population = np.array([[[poke.id_pokedex for poke in ind[0]] for ind in population] for population in ga.solutions_history])\n",
    "\n",
    "aux = [0] * NUM_ALL_POKEMONS # Create a aux array that have all the pokemons used\n",
    "resultado = []\n",
    "for list in population:\n",
    "    for i in list:\n",
    "        aux[i - 1] = 1\n",
    "    resultado.append(aux.copy())\n",
    "\n",
    "diversity = np.sum(resultado, axis=1)\n",
    "fig, axs = plt.subplots(figsize=(5,5))\n",
    "axs.set_title('Diversity evolution')\n",
    "axs.set_xlabel('Iterations')\n",
    "axs.set_ylabel('Diversity\\nPokemon evaluated')\n",
    "axs.plot(diversity, color='orange')"
   ]
  },
  {
   "cell_type": "markdown",
   "metadata": {},
   "source": [
    "## Repeat experiment several times"
   ]
  },
  {
   "cell_type": "code",
   "execution_count": null,
   "metadata": {},
   "outputs": [],
   "source": [
    "executer = GAExperimentExecuter(max_evaluations=100)\n",
    "\n",
    "data = executer.run_repeated_experiment(def_team_experiment='smogon', num_teams_def=1, n_repeat=10)\n",
    "\n",
    "print(f\"Best run {data['fitness'].idxmax()}: fitness {data['fitness'].max():.0f} in {data['n_evaluations'].iloc[data['fitness'].idxmax()]} fitness evaluations\")\n",
    "print(f\"Mean fitness: {data['fitness'].mean():.2f} | Std {data['fitness'].std():.2f}\")\n",
    "print(f\"Mean number of fitness evaluations: {data['n_evaluations'].mean()}\")"
   ]
  },
  {
   "cell_type": "markdown",
   "metadata": {},
   "source": [
    "## Run all experiments"
   ]
  },
  {
   "cell_type": "code",
   "execution_count": null,
   "metadata": {},
   "outputs": [],
   "source": [
    "executer = GAExperimentExecuter(max_evaluations=1000)\n",
    "executer.run_all_experiments(n_repeat=31)"
   ]
  }
 ],
 "metadata": {
  "kernelspec": {
   "display_name": "base",
   "language": "python",
   "name": "python3"
  },
  "language_info": {
   "codemirror_mode": {
    "name": "ipython",
    "version": 3
   },
   "file_extension": ".py",
   "mimetype": "text/x-python",
   "name": "python",
   "nbconvert_exporter": "python",
   "pygments_lexer": "ipython3",
   "version": "3.12.7"
  }
 },
 "nbformat": 4,
 "nbformat_minor": 2
}
